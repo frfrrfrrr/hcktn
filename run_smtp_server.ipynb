{
 "cells": [
  {
   "cell_type": "code",
   "execution_count": 1,
   "metadata": {},
   "outputs": [
    {
     "ename": "SyntaxError",
     "evalue": "Missing parentheses in call to 'print'. Did you mean print('Receiving message from:', peer)? (<ipython-input-1-365ed21e1f2a>, line 7)",
     "output_type": "error",
     "traceback": [
      "\u001b[1;36m  File \u001b[1;32m\"<ipython-input-1-365ed21e1f2a>\"\u001b[1;36m, line \u001b[1;32m7\u001b[0m\n\u001b[1;33m    print 'Receiving message from:', peer\u001b[0m\n\u001b[1;37m                                  ^\u001b[0m\n\u001b[1;31mSyntaxError\u001b[0m\u001b[1;31m:\u001b[0m Missing parentheses in call to 'print'. Did you mean print('Receiving message from:', peer)?\n"
     ]
    }
   ],
   "source": [
    "import smtpd\n",
    "import asyncore\n",
    "\n",
    "class CustomSMTPServer(smtpd.SMTPServer):\n",
    "    \n",
    "    def process_message(self, peer, mailfrom, rcpttos, data):\n",
    "        print 'Receiving message from:', peer\n",
    "        print 'Message addressed from:', mailfrom\n",
    "        print 'Message addressed to  :', rcpttos\n",
    "        print 'Message length        :', len(data)\n",
    "        return\n",
    "\n",
    "server = CustomSMTPServer(('127.0.0.1', 1025), None)\n",
    "\n",
    "asyncore.loop()"
   ]
  },
  {
   "cell_type": "code",
   "execution_count": null,
   "metadata": {},
   "outputs": [],
   "source": []
  }
 ],
 "metadata": {
  "kernelspec": {
   "display_name": "Python 3",
   "language": "python",
   "name": "python3"
  }
 },
 "nbformat": 4,
 "nbformat_minor": 2
}
