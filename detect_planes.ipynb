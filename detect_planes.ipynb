{
 "cells": [
  {
   "cell_type": "code",
   "execution_count": 1,
   "metadata": {},
   "outputs": [
    {
     "name": "stdout",
     "output_type": "stream",
     "text": [
      "Populating the interactive namespace from numpy and matplotlib\n"
     ]
    }
   ],
   "source": [
    "# Import the required modules\n",
    "from IPython.display import clear_output\n",
    "import PIL.Image\n",
    "from io import BytesIO\n",
    "import IPython.display\n",
    "\n",
    "import cv2\n",
    "import time\n",
    "from scipy.stats import mode\n",
    "import heapq as hq\n",
    "%pylab inline"
   ]
  },
  {
   "cell_type": "code",
   "execution_count": 2,
   "metadata": {},
   "outputs": [],
   "source": [
    "# UTILITY FUNCTIONS"
   ]
  },
  {
   "cell_type": "code",
   "execution_count": 3,
   "metadata": {},
   "outputs": [
    {
     "data": {
      "text/plain": [
       "[1, 13, 83, 1079]"
      ]
     },
     "execution_count": 3,
     "metadata": {},
     "output_type": "execute_result"
    }
   ],
   "source": [
    "def factors(chosen, currentnum=None, numbers=None): \n",
    "    # Recursion start, always append 1 and start with 2\n",
    "    if numbers is None:\n",
    "        numbers = [1]\n",
    "        currentnum = 2\n",
    "    # We're at the last value, it's always divisible by itself so\n",
    "    # append it and return\n",
    "    if currentnum == chosen:\n",
    "        numbers.append(currentnum)\n",
    "        return numbers\n",
    "    else:\n",
    "        # Check if the chosen item is divisible by the current number\n",
    "        if chosen % currentnum == 0:\n",
    "            numbers.append(currentnum)\n",
    "        # Always continue with the next number:\n",
    "        currentnum += 1\n",
    "        return factors(chosen, currentnum, numbers)\n",
    "\n",
    "factors(1079)"
   ]
  },
  {
   "cell_type": "code",
   "execution_count": 4,
   "metadata": {},
   "outputs": [],
   "source": [
    "#Use 'jpeg' instead of 'png' (~5 times faster)\n",
    "def showarray(a, times=2, r=True, fmt='jpeg'):\n",
    "    old_shape = a.shape\n",
    "    if len(a.shape) is 3:\n",
    "        a = cv2.cvtColor(a, cv2.COLOR_BGR2RGB)\n",
    "        old_shape = a.shape[:-1]\n",
    "    else:\n",
    "        pass\n",
    "        #a = cv2.cvtColor(a, cv2.COLOR_GRAY2RGB)\n",
    "    if r:\n",
    "        new_shape = flip(rint(divide(old_shape, times)).astype(int))\n",
    "        a = cv2.resize(a, tuple(new_shape.tolist()))\n",
    "    f = BytesIO()\n",
    "    PIL.Image.fromarray(a).save(f, fmt)\n",
    "    IPython.display.display(IPython.display.Image(data=f.getvalue()))"
   ]
  },
  {
   "cell_type": "code",
   "execution_count": 5,
   "metadata": {},
   "outputs": [],
   "source": [
    "def get_frame(cam):\n",
    "    # Capture frame-by-frame\n",
    "    ret, frame = cam.read()\n",
    "    if not ret:\n",
    "        raise KeyboardInterrupt()\n",
    "    \n",
    "    #flip image for natural viewing\n",
    "    #frame = cv2.flip(frame, 1)\n",
    "    \n",
    "    return frame"
   ]
  },
  {
   "cell_type": "code",
   "execution_count": 6,
   "metadata": {},
   "outputs": [],
   "source": [
    "yellow = (255, 0, 255)\n",
    "red = (0, 0, 255)\n",
    "green = (0, 255, 0)\n",
    "def draw_region(frame, h, w, color, l=None, r=None):\n",
    "    frame = cv2.line(frame, (2000, h), (0, h), color, 5)\n",
    "    frame = cv2.line(frame, (2000, h-w), (0, h-w), color, 5)\n",
    "    if l is not None:\n",
    "        frame = cv2.line(frame, (l, 2000), (l, 0), color, 5)\n",
    "        frame = cv2.line(frame, (r, 2000), (r, 0), color, 5)\n",
    "    return frame"
   ]
  },
  {
   "cell_type": "code",
   "execution_count": 7,
   "metadata": {},
   "outputs": [],
   "source": [
    "# PROCESS FUNCTIONS"
   ]
  },
  {
   "cell_type": "code",
   "execution_count": 8,
   "metadata": {},
   "outputs": [],
   "source": [
    "def generate_LUT(gamma=1.0):\n",
    "    # build a lookup table mapping the pixel values [0, 255] to\n",
    "    # their adjusted gamma values\n",
    "    invGamma = 1.0 / gamma\n",
    "    table = np.array([((i / 255.0) ** invGamma) * 255\n",
    "        for i in np.arange(0, 256)]).astype(\"uint8\")\n",
    "    def adjust_gamma(image):\n",
    "        # apply gamma correction using the lookup table\n",
    "        return cv2.LUT(image, table)\n",
    "    return adjust_gamma"
   ]
  },
  {
   "cell_type": "code",
   "execution_count": 9,
   "metadata": {},
   "outputs": [],
   "source": [
    "def DoG(frame, s=1, stride=0):\n",
    "    #run a 5x5 gaussian blur then a 3x3 gaussian blr\n",
    "    sB = (s+1+stride)*2+1\n",
    "    sS = (s)*2+1\n",
    "    blurB = cv2.GaussianBlur(frame,(sB,sB),0)\n",
    "    blurS = cv2.GaussianBlur(frame,(sS,sS),0)\n",
    "\n",
    "    return blurB - blurS"
   ]
  },
  {
   "cell_type": "code",
   "execution_count": 10,
   "metadata": {},
   "outputs": [],
   "source": [
    "def generate_morphOps():\n",
    "    se_c = cv2.getStructuringElement(cv2.MORPH_CROSS, (3, 3))\n",
    "    se_vl = np.array([[0,1,0],[0,1,0],[0,1,0]], np.ubyte)\n",
    "    def morphOps(frame, it):\n",
    "        frame_out = cv2.morphologyEx(frame, cv2.MORPH_OPEN, se_c, iterations=1)\n",
    "        frame_out = cv2.morphologyEx(frame_out, cv2.MORPH_OPEN, se_vl, iterations=it)\n",
    "        frame_out = cv2.morphologyEx(frame_out, cv2.MORPH_DILATE, se_vl, iterations=it)\n",
    "        return frame_out\n",
    "    return morphOps"
   ]
  },
  {
   "cell_type": "code",
   "execution_count": 11,
   "metadata": {},
   "outputs": [],
   "source": [
    "def Unwarp(frame, ltc, rtc):\n",
    "    h = frame.shape[0]\n",
    "    w = frame.shape[1]\n",
    "    pts_src = np.array([[ltc, 0], [0, h], [rtc, h],[w, 0]])\n",
    "    pts_dst = np.array([[0, 0],[0, h],[w, h],[w, 0]])\n",
    "\n",
    "    h, status = cv2.findHomography(pts_src, pts_dst)\n",
    "    frame_out = cv2.warpPerspective(frame, h, (frame.shape[1],frame.shape[0]))\n",
    "    return frame_out"
   ]
  },
  {
   "cell_type": "code",
   "execution_count": 12,
   "metadata": {},
   "outputs": [],
   "source": [
    "def proposeScan(frame_p, scan_line_h, bins_count=80, bin_threshold=350):\n",
    "    #Get full frame scan line\n",
    "    scan_line = frame_p[scan_line_h,:]\n",
    "\n",
    "    # Find first peaks from center\n",
    "    # Find peaks\n",
    "    bin_width = round(len(scan_line)/bins_count)\n",
    "    scan_bins = sum(split(scan_line, bins_count), 1) # Grouped in 50 bins\n",
    "    scan_bins_peaks = where(scan_bins>bin_threshold)[0]\n",
    "    # Break peaks indexes to left an right from center\n",
    "    # And get peaks nearest to center\n",
    "    center_bin = round(bins_count/2)\n",
    "    left_peak_predicate = scan_bins_peaks <= center_bin\n",
    "    right_peak_predicate = scan_bins_peaks > center_bin\n",
    "    if not any(left_peak_predicate) or not any(right_peak_predicate):\n",
    "        return False, None, None\n",
    "    left_peak = int(scan_bins_peaks[left_peak_predicate][-1]*bin_width)\n",
    "    left_peak = max(0, left_peak)\n",
    "    right_peak = int(scan_bins_peaks[right_peak_predicate][0]*bin_width)\n",
    "    right_peak = min(frame_p.shape[1], right_peak)\n",
    "\n",
    "    # Calculate various conditions\n",
    "    cavity_width = right_peak-left_peak\n",
    "    cavity_weight = sum(frame_p[scan_line_h,left_peak:right_peak])\n",
    "    if cavity_width > 900:\n",
    "        return True, left_peak, right_peak\n",
    "    else:\n",
    "        return False, None, None"
   ]
  },
  {
   "cell_type": "code",
   "execution_count": 13,
   "metadata": {},
   "outputs": [],
   "source": [
    "def get_x_by_y(p, y):\n",
    "    if p[1][0] == p[0][0]:\n",
    "        return p[0][0]\n",
    "    else:\n",
    "        k = (p[1][1] - p[0][1]) / (p[1][0] - p[0][0])\n",
    "        b = p[0][1] - k * p[0][0]    \n",
    "        return int((y-b)/k)\n",
    "    \n",
    "def merge_points_to_line(frame_p, scan_line_h, angle_thresh = np.pi*0.4, window = 50): \n",
    "    h_p,w_p = frame_p.shape\n",
    "    h_top = max(0, scan_line_h - window)\n",
    "    h_bottom = min(h_p, scan_line_h + window)\n",
    "    frame = frame_p[h_top:h_bottom,...].copy()\n",
    "    h,w = frame.shape\n",
    "    pc = np.asarray((w//2,h//2))\n",
    "\n",
    "    frame = cv2.Canny(frame, 10, 200, None, 3)\n",
    "    lines = cv2.HoughLinesP(frame, rho=1, theta=np.pi/180, \n",
    "                            threshold=30, minLineLength=int(window*0.5), maxLineGap=10)\n",
    "    lines_left = []\n",
    "    lines_right = []\n",
    "    x_left = None\n",
    "    x_right = None\n",
    "\n",
    "    if lines is None:\n",
    "        return False, x_left, x_right\n",
    "    \n",
    "    for i in range(0, len(lines)):\n",
    "        p1, p2 = np.asarray([lines[i][0][0], lines[i][0][1]]), np.asarray([lines[i][0][2], lines[i][0][3]])\n",
    "        angle = math.atan2((p2[1]-p1[1]),(p2[0] - p1[0]))\n",
    "        \n",
    "        if (angle < angle_thresh) and (angle > -angle_thresh):\n",
    "            continue        \n",
    "           \n",
    "        d = norm(np.cross(p2-p1, p1-pc))/norm(p2-p1)\n",
    "\n",
    "        if p1[0] <= pc[0]:\n",
    "            hq.heappush(lines_left, (d,[p1,p2]))\n",
    "        else:\n",
    "            hq.heappush(lines_right,(d,[p1,p2]))      \n",
    "\n",
    "    if len(lines_left) >0:\n",
    "        p = hq.nsmallest(1, lines_left)[0][1]  \n",
    "        x_left = get_x_by_y(p, h//2)\n",
    "\n",
    "    if len(lines_right) >0:\n",
    "        p = hq.nsmallest(1, lines_right)[0][1]\n",
    "        x_right = get_x_by_y(p, h//2)\n",
    "        \n",
    "    return True, x_left, x_right"
   ]
  },
  {
   "cell_type": "code",
   "execution_count": 14,
   "metadata": {},
   "outputs": [],
   "source": [
    "#Kartashev: interpolation and gluing\n",
    "from scipy.interpolate import UnivariateSpline\n",
    "\n",
    "def glue(sum_plate, region):\n",
    "    old_indices = arange(0, region.shape[1])\n",
    "    new_indices = np.linspace(0, region.shape[1]-1, sum_plate.shape[1])\n",
    "    for line_i in range(region.shape[0]):\n",
    "        line = region[line_i,:]\n",
    "        spl = UnivariateSpline(old_indices, line, k=3, s=0)\n",
    "        new_line = spl(new_indices).astype(np.uint8)\n",
    "        sum_plate = np.vstack((sum_plate, [new_line]))\n",
    "    return sum_plate"
   ]
  },
  {
   "cell_type": "code",
   "execution_count": 15,
   "metadata": {},
   "outputs": [],
   "source": [
    "def generate_process(scan_line_h = 600, scan_line_w = 75):\n",
    "    adjust_gamma = generate_LUT(4)\n",
    "    morphOps = generate_morphOps()\n",
    "    clahe = cv2.createCLAHE(clipLimit=1.0, tileGridSize=(16,16))  \n",
    "    found_plate = False\n",
    "    lost_plate_frames = 0\n",
    "    llp, lrp = None, None\n",
    "    def process(frame_in):\n",
    "        nonlocal found_plate\n",
    "        nonlocal lost_plate_frames\n",
    "        nonlocal llp, lrp\n",
    "        lp = None\n",
    "        rp = None\n",
    "\n",
    "        frame_in = cv2.cvtColor(frame_in, cv2.COLOR_BGR2GRAY)\n",
    "        frame_out = cv2.equalizeHist(frame_in)\n",
    "        frame_out = adjust_gamma(frame_out)\n",
    "        #frame_out = clahe.apply(frame_out)\n",
    "        frame_out = DoG(frame_out, 2, 9)\n",
    "        frame_out = morphOps(frame_out, 6)\n",
    "        \n",
    "        frame_out = Unwarp(frame_out, 140, frame_out.shape[1]+160)\n",
    "        frame_in = Unwarp(frame_in, 140, frame_out.shape[1]+160)\n",
    "        \n",
    "        lcm = 360\n",
    "        rcm = frame_out.shape[1]-310\n",
    "        frame_out = frame_out[:, lcm:rcm]\n",
    "        frame_in = frame_in[:, lcm:rcm]\n",
    "        \n",
    "        region_sum = sum(sum(frame_out[scan_line_h-int(scan_line_w/2):scan_line_h,:]))/frame_out.size\n",
    "        frame_out = frame_in\n",
    "        print(region_sum)\n",
    "        if region_sum > 1:\n",
    "            return frame_out, None, False\n",
    "        elif region_sum < 0.3:\n",
    "            ret = True\n",
    "        else:\n",
    "            ret = False\n",
    "            found_plate = False\n",
    "        \n",
    "#             ret = False\n",
    "#             lc = frame_p[scan_line_h-scan_line_w:scan_line_h, 0:250]\n",
    "#             rc = frame_p[scan_line_h-scan_line_w:scan_line_h, 1150:]\n",
    "#             lcs = sum(lc, 0)\n",
    "#             rcs = sum(rc, 0)\n",
    "#             lp = int(argmax(sum(split(lcs, 25), 1))*(lcs.shape[0]/25))\n",
    "#             rp = int(argmax(sum(split(rcs, 25), 1))*(rcs.shape[0]/25))\n",
    "#             scatter(lp, lcs[lp])\n",
    "#             if lcs[lp] > 10000 and rcs[rp] > 10000:\n",
    "#                 ret = True\n",
    "#                 rp += 1150\n",
    "            #ret, lp, rp = proposeScan(frame_out, scan_line_h, 200, 150)\n",
    "#        if found_plate:\n",
    "#            ret = False\n",
    "#             ret, lp, rp = proposeScan(frame_out, scan_line_h, 200, 150)\n",
    "#            ret, lp, rp = merge_points_to_line(frame_out, scan_line_h)\n",
    "#             voters = linspace(scan_line_h-scan_line_w, scan_line_h, 10, dtype=int)\n",
    "#             votes = [proposeScan(frame_out, scan_line_h, 140, 150) for scan_line_h in voters]\n",
    "#             valid_votes = [vote[1:] for vote in votes if vote[0]]\n",
    "#             valid_votes.append(merge_points_to_line(frame_out, scan_line_h))\n",
    "#             if len(valid_votes) >= 2:\n",
    "#                 consent_vote = tuple(mode(valid_votes).mode[0])\n",
    "#                 consent_strength = min(mode(valid_votes).count[0])\n",
    "#                 if(consent_strength >= 2):\n",
    "#                     ret = True\n",
    "#                     lp, rp = consent_vote\n",
    "#        else:\n",
    "#            ret, lp, rp = merge_points_to_line(frame_out, scan_line_h)\n",
    "#            ret, lp, rp = proposeScan(frame_out, scan_line_h, 200, 150)\n",
    "        \n",
    "        #ret, lp, rp = merge_points_to_line(frame_out, scan_line_h)\n",
    "        \n",
    "        if ret:\n",
    "            llp, lrp = lp, rp\n",
    "            lost_plate_frames = 0\n",
    "            if not found_plate:\n",
    "                found_plate = True\n",
    "        elif found_plate and lost_plate_frames < 10: # Missing region for several frames\n",
    "            lp, rp = llp, lrp\n",
    "            #lost_plate_frames += 1            \n",
    "        else: # Missed region\n",
    "            found_plate = False\n",
    "            lost_plate_frames = 0\n",
    "            llp, lrp = None, None\n",
    "\n",
    "        if(found_plate):\n",
    "            # Extract proposed line\n",
    "            scanned_line = frame_out[scan_line_h-scan_line_w:scan_line_h,:] # lp:rp\n",
    "            return frame_out, scanned_line, lost_plate_frames != 0\n",
    "        else:\n",
    "            return frame_out, None, False\n",
    "    return process"
   ]
  },
  {
   "cell_type": "code",
   "execution_count": 16,
   "metadata": {},
   "outputs": [],
   "source": [
    "# Work area"
   ]
  },
  {
   "cell_type": "code",
   "execution_count": 17,
   "metadata": {},
   "outputs": [],
   "source": [
    "input_file_path = 'Грязь по кромке, годные, изломы.cva'\n",
    "vid = cv2.VideoCapture(input_file_path)"
   ]
  },
  {
   "cell_type": "code",
   "execution_count": 18,
   "metadata": {},
   "outputs": [],
   "source": [
    "# Seek needed frame\n",
    "vid.set(cv2.CAP_PROP_POS_FRAMES,125)\n",
    "frame = get_frame(vid)"
   ]
  },
  {
   "cell_type": "code",
   "execution_count": 19,
   "metadata": {},
   "outputs": [
    {
     "name": "stdout",
     "output_type": "stream",
     "text": [
      "Stream stopped\n"
     ]
    }
   ],
   "source": [
    "scan_line_h = 450\n",
    "scan_line_w = 90\n",
    "process = generate_process(scan_line_h, scan_line_w)\n",
    "frames_to_play = 50\n",
    "found_plate = None\n",
    "sum_plate = None\n",
    "frame_skip = False\n",
    "plates_count = 0\n",
    "status = ''\n",
    "try:\n",
    "    while(frames_to_play):\n",
    "        t1 = time.time()\n",
    "        \n",
    "        # Capture frame-by-frame\n",
    "        frame = get_frame(vid)\n",
    "                   \n",
    "        #frames_to_play -= 1\n",
    "\n",
    "        # Convert the image from OpenCV BGR format to matplotlib RGB format\n",
    "        # to display the image\n",
    "        frame_p, line, m = process(frame)\n",
    "        #showarray(frame_p)\n",
    "        #showarray(draw_region(frame_p, scan_line_h, scan_line_w, (255,)), 4)\n",
    "        if line is not None:\n",
    "            showarray(line)\n",
    "        frame_show = frame_p.copy()\n",
    "        if line is not None:\n",
    "            if m:\n",
    "                frame_show = draw_region(frame_show, scan_line_h, scan_line_w, yellow)\n",
    "            else:\n",
    "                frame_show = draw_region(frame_show, scan_line_h, scan_line_w, green)\n",
    "            if not found_plate:\n",
    "                status = 'plate have started'\n",
    "                found_plate = True\n",
    "                sum_plate = line\n",
    "            else:\n",
    "                #пока отображаем только последнюю. И в Grayscale, так проще делать интерполяцию                \n",
    "                sum_plate = glue(sum_plate, line)\n",
    "                status = 'appended plate'\n",
    "        else:\n",
    "            frame_show = draw_region(frame_show, scan_line_h, scan_line_w, red)\n",
    "            if found_plate:\n",
    "                status = 'plate has ended'\n",
    "                found_plate = False\n",
    "                if sum_plate.shape[0] > 900:\n",
    "                    cv2.imwrite('plate_%d.tiff' % (plates_count),sum_plate)\n",
    "                    plates_count += 1\n",
    "            else:\n",
    "                status = 'No plate'\n",
    "        \n",
    "        t2 = time.time()\n",
    "        #showarray(frame_show, 4)\n",
    "        #showarray(frame_p, 4)\n",
    "        #time.sleep(0.2)\n",
    "        fps = '%f FPS' % (1/(t2-t1+1e-07))\n",
    "        #print('%s %s' % (status, fps))\n",
    "        # Display the frame until new frame is available\n",
    "        clear_output(wait=True)\n",
    "except KeyboardInterrupt:\n",
    "    vid.release()\n",
    "    print('Stream stopped')\n",
    "#showarray(sum_plate, 4)"
   ]
  },
  {
   "cell_type": "code",
   "execution_count": null,
   "metadata": {},
   "outputs": [],
   "source": [
    "# TEST"
   ]
  }
 ],
 "metadata": {
  "kernelspec": {
   "display_name": "Python [conda env:ml]",
   "language": "python",
   "name": "conda-env-ml-py"
  },
  "language_info": {
   "codemirror_mode": {
    "name": "ipython",
    "version": 3
   },
   "file_extension": ".py",
   "mimetype": "text/x-python",
   "name": "python",
   "nbconvert_exporter": "python",
   "pygments_lexer": "ipython3",
   "version": "3.6.6"
  }
 },
 "nbformat": 4,
 "nbformat_minor": 2
}
