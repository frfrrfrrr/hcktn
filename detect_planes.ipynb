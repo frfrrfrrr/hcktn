{
 "cells": [
  {
   "cell_type": "code",
   "execution_count": null,
   "metadata": {},
   "outputs": [],
   "source": [
    "# Import the required modules\n",
    "from IPython.display import clear_output\n",
    "import PIL.Image\n",
    "from io import BytesIO\n",
    "import IPython.display\n",
    "\n",
    "import cv2\n",
    "import time\n",
    "from scipy.stats import mode\n",
    "%pylab inline"
   ]
  },
  {
   "cell_type": "code",
   "execution_count": null,
   "metadata": {},
   "outputs": [],
   "source": [
    "# UTILITY FUNCTIONS"
   ]
  },
  {
   "cell_type": "code",
   "execution_count": null,
   "metadata": {},
   "outputs": [],
   "source": [
    "#Use 'jpeg' instead of 'png' (~5 times faster)\n",
    "def showarray(a, times=2, r=True, fmt='jpeg'):\n",
    "    old_shape = a.shape\n",
    "    if len(a.shape) is 3:\n",
    "        a = cv2.cvtColor(a, cv2.COLOR_BGR2RGB)\n",
    "        old_shape = a.shape[:-1]\n",
    "    if r:\n",
    "        new_shape = flip(rint(divide(old_shape, times)).astype(int))\n",
    "        a = cv2.resize(a, tuple(new_shape.tolist()))\n",
    "    f = BytesIO()\n",
    "    PIL.Image.fromarray(a).save(f, fmt)\n",
    "    IPython.display.display(IPython.display.Image(data=f.getvalue()))"
   ]
  },
  {
   "cell_type": "code",
   "execution_count": null,
   "metadata": {},
   "outputs": [],
   "source": [
    "def get_frame(cam):\n",
    "    # Capture frame-by-frame\n",
    "    ret, frame = cam.read()\n",
    "    if not ret:\n",
    "        raise KeyboardInterrupt()\n",
    "    \n",
    "    #flip image for natural viewing\n",
    "    #frame = cv2.flip(frame, 1)\n",
    "    \n",
    "    return frame"
   ]
  },
  {
   "cell_type": "code",
   "execution_count": null,
   "metadata": {},
   "outputs": [],
   "source": [
    "yellow = (255, 0, 255)\n",
    "red = (0, 0, 255)\n",
    "green = (0, 255, 0)\n",
    "def draw_region(frame, h, w, color):\n",
    "    frame = cv2.line(frame_show, (2000, h), (0, h), color, 5)\n",
    "    frame = cv2.line(frame_show, (2000, h-w), (0, h-w), color, 5)\n",
    "    return frame"
   ]
  },
  {
   "cell_type": "code",
   "execution_count": null,
   "metadata": {},
   "outputs": [],
   "source": [
    "# PROCESS FUNCTIONS"
   ]
  },
  {
   "cell_type": "code",
   "execution_count": null,
   "metadata": {},
   "outputs": [],
   "source": [
    "def generate_LUT(gamma=1.0):\n",
    "    # build a lookup table mapping the pixel values [0, 255] to\n",
    "    # their adjusted gamma values\n",
    "    invGamma = 1.0 / gamma\n",
    "    table = np.array([((i / 255.0) ** invGamma) * 255\n",
    "        for i in np.arange(0, 256)]).astype(\"uint8\")\n",
    "    def adjust_gamma(image):\n",
    "        # apply gamma correction using the lookup table\n",
    "        return cv2.LUT(image, table)\n",
    "    return adjust_gamma"
   ]
  },
  {
   "cell_type": "code",
   "execution_count": null,
   "metadata": {},
   "outputs": [],
   "source": [
    "def DoG(frame, s=1, stride=0):\n",
    "    #run a 5x5 gaussian blur then a 3x3 gaussian blr\n",
    "    sB = (s+1+stride)*2+1\n",
    "    sS = (s)*2+1\n",
    "    blurB = cv2.GaussianBlur(frame,(sB,sB),0)\n",
    "    blurS = cv2.GaussianBlur(frame,(sS,sS),0)\n",
    "\n",
    "    return blurB - blurS"
   ]
  },
  {
   "cell_type": "code",
   "execution_count": null,
   "metadata": {},
   "outputs": [],
   "source": [
    "def generate_morphOps():\n",
    "    se_c = cv2.getStructuringElement(cv2.MORPH_CROSS, (3, 3))\n",
    "    se_vl = np.array([[0,1,0],[0,1,0],[0,1,0]], np.ubyte)\n",
    "    def morphOps(frame, it):\n",
    "        frame_out = cv2.morphologyEx(frame, cv2.MORPH_OPEN, se_c, iterations=1)\n",
    "        frame_out = cv2.morphologyEx(frame_out, cv2.MORPH_OPEN, se_vl, iterations=it)\n",
    "        return frame_out\n",
    "    return morphOps"
   ]
  },
  {
   "cell_type": "code",
   "execution_count": null,
   "metadata": {},
   "outputs": [],
   "source": [
    "def Unwarp(frame, ltc, rtc):\n",
    "    h = frame.shape[0]\n",
    "    w = frame.shape[1]\n",
    "    pts_src = np.array([[ltc, 0], [0, h], [rtc, h],[w, 0]])\n",
    "    pts_dst = np.array([[0, 0],[0, h],[w, h],[w, 0]])\n",
    "\n",
    "    h, status = cv2.findHomography(pts_src, pts_dst)\n",
    "    frame_out = cv2.warpPerspective(frame, h, (frame.shape[1],frame.shape[0]))\n",
    "    return frame_out"
   ]
  },
  {
   "cell_type": "code",
   "execution_count": null,
   "metadata": {},
   "outputs": [],
   "source": [
    "def proposeScan(frame_p, scan_line_h, bins_count=80, bin_threshold=350):\n",
    "    #Get full frame scan line\n",
    "    scan_line = frame_p[scan_line_h,:]\n",
    "\n",
    "    # Find first peaks from center\n",
    "    # Find peaks\n",
    "    bin_width = round(len(scan_line)/bins_count)\n",
    "    scan_bins = sum(split(scan_line, bins_count), 1) # Grouped in 50 bins\n",
    "    scan_bins_peaks = where(scan_bins>bin_threshold)[0]\n",
    "    # Break peaks indexes to left an right from center\n",
    "    # And get peaks nearest to center\n",
    "    center_bin = round(bins_count/2)\n",
    "    left_peak_predicate = scan_bins_peaks <= center_bin\n",
    "    right_peak_predicate = scan_bins_peaks > center_bin\n",
    "    if not any(left_peak_predicate) or not any(right_peak_predicate):\n",
    "        return False, None, None\n",
    "    left_peak = int(scan_bins_peaks[left_peak_predicate][-1]*bin_width-bin_width)\n",
    "    right_peak = int(scan_bins_peaks[right_peak_predicate][0]*bin_width+bin_width)\n",
    "\n",
    "    # Calculate various conditions\n",
    "    cavity_width = right_peak-left_peak\n",
    "    cavity_weight = sum(frame_p[scan_line_h,left_peak:right_peak])\n",
    "    \n",
    "    if cavity_width > 800:\n",
    "        left_peak = max(0, left_peak)\n",
    "        right_peak = min(frame_p.shape[1], right_peak)\n",
    "        return True, left_peak, right_peak\n",
    "    else:\n",
    "        return False, None, None"
   ]
  },
  {
   "cell_type": "code",
   "execution_count": null,
   "metadata": {},
   "outputs": [],
   "source": [
    "#Kartashev: interpolation and gluing\n",
    "from scipy.interpolate import UnivariateSpline\n",
    "\n",
    "def glue(sum_plate, region):\n",
    "    old_indices = arange(0, region.shape[1])\n",
    "    new_indices = np.linspace(0, region.shape[1]-1, sum_plate.shape[1])\n",
    "    for line_i in range(region.shape[0]):\n",
    "        line = region[line_i,:]\n",
    "        spl = UnivariateSpline(old_indices, line, k=3, s=0)\n",
    "        new_line = spl(new_indices).astype(np.uint8)\n",
    "        sum_plate = np.vstack((sum_plate, [new_line]))\n",
    "    return sum_plate"
   ]
  },
  {
   "cell_type": "code",
   "execution_count": null,
   "metadata": {},
   "outputs": [],
   "source": [
    "def generate_process(scan_line_h = 600, scan_line_w = 75):\n",
    "    adjust_gamma = generate_LUT(5)\n",
    "    morphOps = generate_morphOps()\n",
    "    found_plate = False\n",
    "    lost_plate_frames = 0\n",
    "    llp, lrp = None, None\n",
    "    def process(frame_in):\n",
    "        nonlocal found_plate\n",
    "        nonlocal lost_plate_frames\n",
    "        nonlocal llp, lrp\n",
    "\n",
    "        frame_out = cv2.cvtColor(frame_in, cv2.COLOR_BGR2GRAY)\n",
    "        frame_out = cv2.equalizeHist(frame_out)\n",
    "        frame_out = generate_LUT(6)(frame_out)\n",
    "        frame_out = DoG(frame_out, 2, 9)\n",
    "        frame_out = morphOps(frame_out, 4)\n",
    "        \n",
    "        frame_out = Unwarp(frame_out, 140, frame_out.shape[1]+160)\n",
    "        frame_in = Unwarp(frame_in, 140, frame_out.shape[1]+160)\n",
    "        \n",
    "        lcm = 260\n",
    "        rcm = frame_out.shape[1]-260\n",
    "        frame_out = frame_out[:, lcm:rcm]\n",
    "        frame_in = frame_in[:, lcm:rcm]\n",
    "        \n",
    "        if found_plate:\n",
    "            ret = False\n",
    "            voters = linspace(scan_line_h-scan_line_w, scan_line_h, 10, dtype=int)\n",
    "            votes = [proposeScan(frame_out, scan_line_h, 140, 150) for scan_line_h in voters]\n",
    "            valid_votes = [vote[1:] for vote in votes if vote[0]]\n",
    "            if len(valid_votes) >= 5:\n",
    "                consent_vote = tuple(mode(valid_votes).mode[0])\n",
    "                consent_strength = min(mode(valid_votes).count[0])\n",
    "                if(consent_strength >= 3):\n",
    "                    ret = True\n",
    "                    lp, rp = consent_vote\n",
    "        else:\n",
    "            ret, lp, rp = proposeScan(frame_out, scan_line_h, 200, 150)\n",
    "        \n",
    "        if ret:\n",
    "            llp, lrp = lp, rp\n",
    "            lost_plate_frames = 0\n",
    "            if not found_plate:\n",
    "                found_plate = True\n",
    "        elif found_plate and lost_plate_frames < 2: # Missing region for several frames\n",
    "            lp, rp = llp, lrp\n",
    "            lost_plate_frames += 1\n",
    "        else: # Missed region\n",
    "            found_plate = False\n",
    "            lost_plate_frames = 0\n",
    "            llp, lrp = None, None\n",
    "\n",
    "        if(found_plate):\n",
    "            # Extract proposed line\n",
    "            # Kartashev: in grayscale for simplier interpolation\n",
    "            frame_gray = cv2.cvtColor(frame_in, cv2.COLOR_BGR2GRAY)\n",
    "            scanned_line = frame_gray[scan_line_h-scan_line_w:scan_line_h,lp:rp]\n",
    "            return frame_out, scanned_line, lost_plate_frames != 0\n",
    "        else:\n",
    "            return frame_out, None, False\n",
    "    return process"
   ]
  },
  {
   "cell_type": "code",
   "execution_count": null,
   "metadata": {},
   "outputs": [],
   "source": [
    "# Work area"
   ]
  },
  {
   "cell_type": "code",
   "execution_count": null,
   "metadata": {},
   "outputs": [],
   "source": [
    "input_file_path = 'Дефекты кромки1.cva'\n",
    "vid = cv2.VideoCapture(input_file_path)"
   ]
  },
  {
   "cell_type": "code",
   "execution_count": null,
   "metadata": {},
   "outputs": [],
   "source": [
    "# Seek needed frame\n",
    "# 150, 30 - 2 plate\n",
    "vid.set(cv2.CAP_PROP_POS_FRAMES,125)\n",
    "frame = get_frame(vid)"
   ]
  },
  {
   "cell_type": "code",
   "execution_count": null,
   "metadata": {},
   "outputs": [],
   "source": [
    "scan_line_h = 560\n",
    "scan_line_w = 90\n",
    "process = generate_process(scan_line_h, scan_line_w)\n",
    "frames_to_play = 50\n",
    "found_plate = None\n",
    "sum_plate = None\n",
    "frame_skip = False\n",
    "plates_count = 0\n",
    "status = ''\n",
    "try:\n",
    "    while(frames_to_play):\n",
    "        t1 = time.time()\n",
    "        \n",
    "        # Capture frame-by-frame\n",
    "        frame = get_frame(vid)\n",
    "                   \n",
    "        #frames_to_play -= 1\n",
    "\n",
    "        # Convert the image from OpenCV BGR format to matplotlib RGB format\n",
    "        # to display the image\n",
    "        frame_p, line, m = process(frame)\n",
    "        frame_show = frame.copy()\n",
    "        if line is not None:\n",
    "            if m:\n",
    "                frame_show = draw_region(frame_show, scan_line_h, scan_line_w, yellow)\n",
    "            else:\n",
    "                frame_show = draw_region(frame_show, scan_line_h, scan_line_w, green)\n",
    "            if not found_plate:\n",
    "                status = 'plate have started'\n",
    "                found_plate = True\n",
    "                sum_plate = line\n",
    "            else:\n",
    "                #пока отображаем только последнюю. И в Grayscale, так проще делать интерполяцию                \n",
    "                sum_plate = glue(sum_plate, line)\n",
    "                status = 'appended plate'\n",
    "        else:\n",
    "            frame_show = draw_region(frame_show, scan_line_h, scan_line_w, red)\n",
    "            if found_plate:\n",
    "                status = 'plate has ended'\n",
    "                found_plate = False\n",
    "                cv2.imwrite('plate_%d.tiff' % (plates_count),sum_plate)\n",
    "                plates_count += 1\n",
    "            else:\n",
    "                status = 'No plate'\n",
    "        \n",
    "        t2 = time.time()\n",
    "        showarray(frame_show, 4)\n",
    "        #time.sleep(1)\n",
    "        fps = '%f FPS' % (1/(t2-t1+1e-07))\n",
    "        #print('%s %s' % (status, fps))\n",
    "        # Display the frame until new frame is available\n",
    "        clear_output(wait=True)\n",
    "except KeyboardInterrupt:\n",
    "    vid.release()\n",
    "    print('Stream stopped')\n",
    "#showarray(sum_plate, 4)"
   ]
  },
  {
   "cell_type": "code",
   "execution_count": null,
   "metadata": {},
   "outputs": [],
   "source": [
    "# TEST"
   ]
  }
 ],
 "metadata": {
  "kernelspec": {
   "display_name": "Python [conda env:ml]",
   "language": "python",
   "name": "conda-env-ml-py"
  },
  "language_info": {
   "codemirror_mode": {
    "name": "ipython",
    "version": 3
   },
   "file_extension": ".py",
   "mimetype": "text/x-python",
   "name": "python",
   "nbconvert_exporter": "python",
   "pygments_lexer": "ipython3",
   "version": "3.6.6"
  }
 },
 "nbformat": 4,
 "nbformat_minor": 2
}
