{
 "cells": [
  {
   "cell_type": "code",
   "execution_count": 1,
   "metadata": {},
   "outputs": [
    {
     "name": "stdout",
     "output_type": "stream",
     "text": [
      "Populating the interactive namespace from numpy and matplotlib\n"
     ]
    }
   ],
   "source": [
    "# Import the required modules\n",
    "from IPython.display import clear_output\n",
    "import PIL.Image\n",
    "from io import BytesIO\n",
    "import IPython.display\n",
    "\n",
    "import cv2\n",
    "import time\n",
    "%pylab inline"
   ]
  },
  {
   "cell_type": "markdown",
   "metadata": {},
   "source": [
    "# ПЫХ ПЫХ"
   ]
  },
  {
   "cell_type": "code",
   "execution_count": 2,
   "metadata": {},
   "outputs": [],
   "source": [
    "DEBUG = False"
   ]
  },
  {
   "cell_type": "code",
   "execution_count": 239,
   "metadata": {},
   "outputs": [],
   "source": [
    "hp = [\n",
    "{'name': 'Грязь по кромке, годные, изломы.cva', 'skip': 280, 'w': 130, 't':0.28, 'lcm':260, 'rcm':290, 'f2p':165},\n",
    "{'name': 'Годные.cva', 'skip': 14, 'w': 130, 't':0.43, 'lcm':260, 'rcm':290, 'f2p':170},\n",
    "{'name': 'Годные 3.cva', 'skip': 10, 'w': 140, 't':0.3, 'lcm':260, 'rcm':290, 'f2p':185},\n",
    "{'name': 'Дефекты кромки 1.cva', 'skip': 250, 'w': 105, 't':0.2, 'lcm':220, 'rcm':310, 'f2p':185},\n",
    "{'name': 'м_Дефекты кромки подсчет листов.cva', 'skip': 10, 'w': 150, 't':0.5, 'lcm':430, 'rcm':450, 'f2p':250},\n",
    "{'name': 'м_Поперечные дефекты на листах.cva', 'skip': 200, 'w': 150, 't':0.5, 'lcm':430, 'rcm':500, 'f2p':300}\n",
    "]"
   ]
  },
  {
   "cell_type": "markdown",
   "metadata": {},
   "source": [
    "# UTILITY FUNCTIONS"
   ]
  },
  {
   "cell_type": "code",
   "execution_count": 5,
   "metadata": {},
   "outputs": [
    {
     "data": {
      "text/plain": [
       "[1, 2, 4, 5, 10, 20, 25, 50, 100]"
      ]
     },
     "execution_count": 5,
     "metadata": {},
     "output_type": "execute_result"
    }
   ],
   "source": [
    "def factors(chosen, currentnum=None, numbers=None):\n",
    "        # Recursion start, always append 1 and start with 2\n",
    "        if numbers is None:\n",
    "            numbers = [1]\n",
    "            currentnum = 2\n",
    "        # We're at the last value, it's always divisible by itself so\n",
    "        # append it and return\n",
    "        if currentnum == chosen:\n",
    "            numbers.append(currentnum)\n",
    "            return numbers\n",
    "        else:\n",
    "            # Check if the chosen item is divisible by the current number\n",
    "            if chosen % currentnum == 0:\n",
    "                numbers.append(currentnum)\n",
    "            # Always continue with the next number:\n",
    "            currentnum += 1\n",
    "            return factors(chosen, currentnum, numbers)\n",
    "\n",
    "factors(100)"
   ]
  },
  {
   "cell_type": "code",
   "execution_count": 6,
   "metadata": {},
   "outputs": [],
   "source": [
    "#Use 'jpeg' instead of 'png' (~5 times faster)\n",
    "def showarray(a, times=2, r=True, fmt='jpeg'):\n",
    "    old_shape = a.shape\n",
    "    if len(old_shape) is 3:\n",
    "        a = cv2.cvtColor(a, cv2.COLOR_BGR2RGB)\n",
    "        old_shape = a.shape[:-1]\n",
    "    if r:\n",
    "        new_shape = flip(rint(divide(old_shape, times)).astype(int))\n",
    "        a = cv2.resize(a, tuple(new_shape.tolist()))\n",
    "    f = BytesIO()\n",
    "    PIL.Image.fromarray(a).save(f, fmt)\n",
    "    IPython.display.display(IPython.display.Image(data=f.getvalue()))"
   ]
  },
  {
   "cell_type": "code",
   "execution_count": 7,
   "metadata": {},
   "outputs": [],
   "source": [
    "def get_frame(cam):\n",
    "    # Capture frame-by-frame\n",
    "    ret, frame = cam.read()\n",
    "    if not ret:\n",
    "        raise KeyboardInterrupt()\n",
    "   \n",
    "    return frame"
   ]
  },
  {
   "cell_type": "code",
   "execution_count": 8,
   "metadata": {},
   "outputs": [],
   "source": [
    "yellow = (0, 255, 255)\n",
    "red = (0, 0, 255)\n",
    "green = (0, 255, 0)\n",
    "white = (255,0,0)\n",
    "def draw_region(frame, h, w, color, l=None, r=None):\n",
    "    frame = cv2.line(frame, (2000, h), (0, h), color, 5)\n",
    "    frame = cv2.line(frame, (2000, h-w), (0, h-w), color, 5)\n",
    "    if l is not None:\n",
    "        frame = cv2.line(frame, (l, 2000), (l, 0), color, 5)\n",
    "        frame = cv2.line(frame, (r, 2000), (r, 0), color, 5)\n",
    "    return frame"
   ]
  },
  {
   "cell_type": "markdown",
   "metadata": {},
   "source": [
    "# PROCESS FUNCTIONS"
   ]
  },
  {
   "cell_type": "code",
   "execution_count": 10,
   "metadata": {},
   "outputs": [],
   "source": [
    "def generate_LUT(gamma=1.0):\n",
    "    # build a lookup table mapping the pixel values [0, 255] to\n",
    "    # their adjusted gamma values\n",
    "    invGamma = 1.0 / gamma\n",
    "    table = np.array([((i / 255.0) ** invGamma) * 255\n",
    "        for i in np.arange(0, 256)]).astype(\"uint8\")\n",
    "    def adjust_gamma(image):\n",
    "        # apply gamma correction using the lookup table\n",
    "        return cv2.LUT(image, table)\n",
    "    return adjust_gamma"
   ]
  },
  {
   "cell_type": "code",
   "execution_count": 11,
   "metadata": {},
   "outputs": [],
   "source": [
    "def DoG(frame, s=1, stride=0):\n",
    "    #run a 5x5 gaussian blur then a 3x3 gaussian blr\n",
    "    sB = (s+1+stride)*2+1\n",
    "    sS = (s)*2+1\n",
    "    blurB = cv2.GaussianBlur(frame,(sB,sB),0)\n",
    "    blurS = cv2.GaussianBlur(frame,(sS,sS),0)\n",
    "\n",
    "    return blurB - blurS"
   ]
  },
  {
   "cell_type": "code",
   "execution_count": 12,
   "metadata": {},
   "outputs": [],
   "source": [
    "def generate_morphOps():\n",
    "    se_c = cv2.getStructuringElement(cv2.MORPH_CROSS, (3, 3))\n",
    "    se_vl = np.array([[0,1,0],[0,1,0],[0,1,0]], np.ubyte)\n",
    "    def morphOps(frame, it):\n",
    "        frame_out = cv2.morphologyEx(frame, cv2.MORPH_OPEN, se_c, iterations=1)\n",
    "        frame_out = cv2.morphologyEx(frame_out, cv2.MORPH_OPEN, se_vl, iterations=it)\n",
    "        frame_out = cv2.morphologyEx(frame_out, cv2.MORPH_DILATE, se_vl, iterations=it)\n",
    "        return frame_out\n",
    "    return morphOps"
   ]
  },
  {
   "cell_type": "code",
   "execution_count": 13,
   "metadata": {},
   "outputs": [],
   "source": [
    "def Unwarp(frame, ltc, rtc):\n",
    "    h = frame.shape[0]\n",
    "    w = frame.shape[1]\n",
    "    pts_src = np.array([[ltc, 0], [0, h], [rtc, h],[w, 0]])\n",
    "    pts_dst = np.array([[0, 0],[0, h],[w, h],[w, 0]])\n",
    "\n",
    "    h, status = cv2.findHomography(pts_src, pts_dst)\n",
    "    frame_out = cv2.warpPerspective(frame, h, (frame.shape[1],frame.shape[0]))\n",
    "    return frame_out"
   ]
  },
  {
   "cell_type": "code",
   "execution_count": 14,
   "metadata": {},
   "outputs": [],
   "source": [
    "from scipy.interpolate import UnivariateSpline\n",
    "\n",
    "def glue(sum_plate, region):\n",
    "    sum_plate = np.vstack((sum_plate, region))\n",
    "    return sum_plate"
   ]
  },
  {
   "cell_type": "markdown",
   "metadata": {},
   "source": [
    "# Work area"
   ]
  },
  {
   "cell_type": "code",
   "execution_count": 240,
   "metadata": {},
   "outputs": [],
   "source": [
    "params = hp[0]\n",
    "input_file_path = params['name']"
   ]
  },
  {
   "cell_type": "code",
   "execution_count": 241,
   "metadata": {},
   "outputs": [],
   "source": [
    "def generate_process(scan_line_h, scan_line_w):\n",
    "    adjust_gamma = generate_LUT(4)\n",
    "    morphOps = generate_morphOps()\n",
    "    def process(frame_in):\n",
    "        frame_in = cv2.cvtColor(frame_in, cv2.COLOR_BGR2GRAY)\n",
    "        frame_out = cv2.equalizeHist(frame_in)\n",
    "        frame_out = adjust_gamma(frame_out)\n",
    "        frame_out = DoG(frame_out, 2, 9)\n",
    "        frame_out = morphOps(frame_out, 6)\n",
    "        \n",
    "        frame_out = Unwarp(frame_out, 140, frame_out.shape[1]+160)\n",
    "        frame_in = Unwarp(frame_in, 140, frame_out.shape[1]+160)\n",
    "        \n",
    "        lcm = params['lcm']\n",
    "        rcm = frame_out.shape[1]-params['rcm']\n",
    "        \n",
    "        frame_out = frame_out[:, lcm:rcm]\n",
    "        frame_in = frame_in[:, lcm:rcm]\n",
    "        \n",
    "        shrink_ratio = 4\n",
    "        region_sum_t = sum(sum(frame_out[scan_line_h-scan_line_w:scan_line_h-int(scan_line_w*(1 - 1/shrink_ratio)),:]))/frame_out.size\n",
    "        region_sum_b = sum(sum(frame_out[scan_line_h-int(scan_line_w/shrink_ratio):scan_line_h,:]))/frame_out.size\n",
    "        if DEBUG:\n",
    "            print(region_sum_t, region_sum_b)\n",
    "            global_sum.append(region_sum_b)\n",
    "            global_sum.append(region_sum_t)\n",
    "        frame_out = frame_in\n",
    "\n",
    "        threshold = params['t']\n",
    "        if region_sum_t < threshold or region_sum_b < threshold:\n",
    "            scanned_line = frame_in[scan_line_h-scan_line_w:scan_line_h,:]\n",
    "            return frame_in, scanned_line\n",
    "        else:\n",
    "            return frame_in, None\n",
    "\n",
    "    return process"
   ]
  },
  {
   "cell_type": "code",
   "execution_count": 267,
   "metadata": {},
   "outputs": [],
   "source": [
    "vid = cv2.VideoCapture(input_file_path)"
   ]
  },
  {
   "cell_type": "code",
   "execution_count": 268,
   "metadata": {},
   "outputs": [],
   "source": [
    "# Seek needed frame\n",
    "vid.set(cv2.CAP_PROP_POS_FRAMES,params['skip'])\n",
    "frame = get_frame(vid)"
   ]
  },
  {
   "cell_type": "code",
   "execution_count": 269,
   "metadata": {},
   "outputs": [
    {
     "name": "stdout",
     "output_type": "stream",
     "text": [
      "Stream stopped\n"
     ]
    }
   ],
   "source": [
    "scan_line_h = 450\n",
    "scan_line_w = params['w']\n",
    "process = generate_process(scan_line_h, scan_line_w)\n",
    "found_plate = None\n",
    "sum_plate = None\n",
    "sum_plate_ready = None\n",
    "plates_count = 0\n",
    "frames_to_play = params['f2p']\n",
    "status = ''\n",
    "is_defect = False   \n",
    "if DEBUG:\n",
    "    global_sum = []\n",
    "else:\n",
    "    cv2.namedWindow('Frame')\n",
    "    cv2.moveWindow('Frame', 0,0)\n",
    "    cv2.namedWindow('Plane')\n",
    "    cv2.moveWindow('Plane', 800,0)\n",
    "    cv2.namedWindow('Defects')\n",
    "    cv2.moveWindow('Defects', 1400,0)\n",
    "try:\n",
    "    while(frames_to_play):\n",
    "        \n",
    "        frame = get_frame(vid)\n",
    "        frames_to_play -= 1\n",
    "\n",
    "        t1 = time.time()\n",
    "        frame_p, line = process(frame)\n",
    "        t2 = time.time()\n",
    "        \n",
    "        if line is not None: # started\n",
    "            if not found_plate:\n",
    "                found_plate = True\n",
    "                sum_plate = line\n",
    "            else: # append\n",
    "                sum_plate = glue(sum_plate, line)\n",
    "        else: # ended\n",
    "            if found_plate:\n",
    "                found_plate = False\n",
    "                if sum_plate.shape[0] > 300:\n",
    "                    is_defect = False\n",
    "                    plates_count += 1\n",
    "                    sum_plate_ready = sum_plate\n",
    "                    cv2.imwrite('plate_%d.jpg' % (plates_count),sum_plate)\n",
    "                    if sum_plate.shape[0] < 900:\n",
    "                        is_defect = True\n",
    "            else: # no plate\n",
    "                pass\n",
    "        \n",
    "        fps = '%.2f FPS' % round((1/(t2-t1+1e-07)), 2)\n",
    "        pc = '%d plates' % plates_count\n",
    "        \n",
    "        if DEBUG:\n",
    "            #time.sleep(1)\n",
    "            frame_show = frame_p.copy()\n",
    "            showarray(draw_region(frame_show, scan_line_h, scan_line_w, white), 4)\n",
    "            if line is not None:\n",
    "                showarray(line)\n",
    "            print('%s\\n%s\\n%s\\n%s\\n' % (status, fps, pc, dm))\n",
    "        else:\n",
    "            frame = cv2.resize(frame, (800, 450))\n",
    "            frame = cv2.putText(frame, fps, (10, 60), cv2.FONT_HERSHEY_PLAIN, 3, (255,255,255))\n",
    "            frame = cv2.putText(frame, pc, (10, 110), cv2.FONT_HERSHEY_PLAIN, 3, (255,255,255))\n",
    "            cv2.imshow('Frame', frame)\n",
    "            if sum_plate_ready is not None:\n",
    "                \n",
    "                ### DETECT DEFECT\n",
    "                ### is_defect, defects = get_defects(sum_plate, mean_plate)\n",
    "                \n",
    "                dm = 'DEFECT' if is_defect else 'GOOD'\n",
    "                sum_plate_ready = cv2.resize(sum_plate_ready, (600, 800))\n",
    "                sum_plate_ready = cv2.putText(sum_plate_ready, dm, (10, 40), cv2.FONT_HERSHEY_PLAIN, 3, (255,255,255))\n",
    "                cv2.imshow('Plane', sum_plate_ready)\n",
    "                \n",
    "                #cv2.imshow('Defects', cv2.resize(defects, (600, 800))\n",
    "            cv2.waitKey(1)\n",
    "            \n",
    "        # Display the frame until new frame is available\n",
    "        clear_output(wait=True)\n",
    "except KeyboardInterrupt:\n",
    "    vid.release()\n",
    "    print('Stream stopped')"
   ]
  },
  {
   "cell_type": "code",
   "execution_count": 270,
   "metadata": {},
   "outputs": [],
   "source": [
    "cv2.destroyAllWindows()"
   ]
  },
  {
   "cell_type": "markdown",
   "metadata": {},
   "source": [
    "# TEST"
   ]
  },
  {
   "cell_type": "code",
   "execution_count": 23,
   "metadata": {},
   "outputs": [],
   "source": [
    "# Select threshold"
   ]
  },
  {
   "cell_type": "code",
   "execution_count": 174,
   "metadata": {},
   "outputs": [],
   "source": [
    "# global_sum = np.array(global_sum, dtype=float64)\n",
    "# global_sum_rate = diff(sort(global_sum))\n",
    "# global_threshold = sort(global_sum)[argmax(global_sum_rate > 0.02)]\n",
    "# global_threshold"
   ]
  },
  {
   "cell_type": "code",
   "execution_count": null,
   "metadata": {},
   "outputs": [],
   "source": [
    "# hist(global_sum, 40);"
   ]
  },
  {
   "cell_type": "code",
   "execution_count": null,
   "metadata": {},
   "outputs": [],
   "source": [
    "# plot(sort(global_sum));"
   ]
  },
  {
   "cell_type": "code",
   "execution_count": null,
   "metadata": {},
   "outputs": [],
   "source": [
    "# plot(global_sum_rate)"
   ]
  },
  {
   "cell_type": "code",
   "execution_count": null,
   "metadata": {},
   "outputs": [],
   "source": [
    "# plot(global_sum_rate > 0.02);"
   ]
  },
  {
   "cell_type": "code",
   "execution_count": 266,
   "metadata": {},
   "outputs": [],
   "source": [
    "cv2.destroyAllWindows()"
   ]
  },
  {
   "cell_type": "code",
   "execution_count": null,
   "metadata": {},
   "outputs": [],
   "source": []
  }
 ],
 "metadata": {
  "kernelspec": {
   "display_name": "Python [conda env:ml]",
   "language": "python",
   "name": "conda-env-ml-py"
  },
  "language_info": {
   "codemirror_mode": {
    "name": "ipython",
    "version": 3
   },
   "file_extension": ".py",
   "mimetype": "text/x-python",
   "name": "python",
   "nbconvert_exporter": "python",
   "pygments_lexer": "ipython3",
   "version": "3.6.6"
  }
 },
 "nbformat": 4,
 "nbformat_minor": 2
}
