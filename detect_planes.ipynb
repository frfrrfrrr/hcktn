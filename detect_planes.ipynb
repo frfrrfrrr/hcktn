{
 "cells": [
  {
   "cell_type": "code",
   "execution_count": 1,
   "metadata": {},
   "outputs": [
    {
     "name": "stdout",
     "output_type": "stream",
     "text": [
      "Populating the interactive namespace from numpy and matplotlib\n"
     ]
    }
   ],
   "source": [
    "# Import the required modules\n",
    "from IPython.display import clear_output\n",
    "import PIL.Image\n",
    "from io import BytesIO\n",
    "import IPython.display\n",
    "\n",
    "import cv2\n",
    "import time\n",
    "%pylab inline"
   ]
  },
  {
   "cell_type": "code",
   "execution_count": 2,
   "metadata": {},
   "outputs": [],
   "source": [
    "# UTILITY FUNCTIONS"
   ]
  },
  {
   "cell_type": "code",
   "execution_count": 3,
   "metadata": {},
   "outputs": [],
   "source": [
    "#Use 'jpeg' instead of 'png' (~5 times faster)\n",
    "def showarray(a, fmt='jpeg'):\n",
    "    a = cv2.resize(a, (600 , 300))\n",
    "    if len(a.shape) is 3:\n",
    "        a = cv2.cvtColor(a, cv2.COLOR_BGR2RGB)\n",
    "    f = BytesIO()\n",
    "    PIL.Image.fromarray(a).save(f, fmt)\n",
    "    IPython.display.display(IPython.display.Image(data=f.getvalue()))"
   ]
  },
  {
   "cell_type": "code",
   "execution_count": 4,
   "metadata": {},
   "outputs": [],
   "source": [
    "def get_frame(cam):\n",
    "    # Capture frame-by-frame\n",
    "    ret, frame = cam.read()\n",
    "    if not ret:\n",
    "        raise KeyboardInterrupt()\n",
    "    \n",
    "    #flip image for natural viewing\n",
    "    #frame = cv2.flip(frame, 1)\n",
    "    \n",
    "    return frame"
   ]
  },
  {
   "cell_type": "code",
   "execution_count": 5,
   "metadata": {},
   "outputs": [],
   "source": [
    "# PROCESS FUNCTIONS"
   ]
  },
  {
   "cell_type": "code",
   "execution_count": 6,
   "metadata": {},
   "outputs": [],
   "source": [
    "def generate_LUT(gamma=1.0):\n",
    "    # build a lookup table mapping the pixel values [0, 255] to\n",
    "    # their adjusted gamma values\n",
    "    invGamma = 1.0 / gamma\n",
    "    table = np.array([((i / 255.0) ** invGamma) * 255\n",
    "        for i in np.arange(0, 256)]).astype(\"uint8\")\n",
    "    def adjust_gamma(image):\n",
    "        # apply gamma correction using the lookup table\n",
    "        return cv2.LUT(image, table)\n",
    "    return adjust_gamma"
   ]
  },
  {
   "cell_type": "code",
   "execution_count": 7,
   "metadata": {},
   "outputs": [],
   "source": [
    "def DoG(frame, s=1, stride=0):\n",
    "    #run a 5x5 gaussian blur then a 3x3 gaussian blr\n",
    "    sB = (s+1+stride)*2+1\n",
    "    sS = (s)*2+1\n",
    "    blurB = cv2.GaussianBlur(frame,(sB,sB),0)\n",
    "    blurS = cv2.GaussianBlur(frame,(sS,sS),0)\n",
    "\n",
    "    return blurB - blurS"
   ]
  },
  {
   "cell_type": "code",
   "execution_count": 8,
   "metadata": {},
   "outputs": [],
   "source": [
    "def Unwarp(frame):\n",
    "    pts_src = np.array([[67, 0], [63, 856], [1552, 856],[1500, 0]])\n",
    "    pts_dst = np.array([[0, 0],[0, 856],[1552, 856],[1552, 0]])\n",
    "\n",
    "    h, status = cv2.findHomography(pts_src, pts_dst)\n",
    "    frame_out = cv2.warpPerspective(frame, h, (frame.shape[1],frame.shape[0]))\n",
    "    return frame_out[:, 200:1400]"
   ]
  },
  {
   "cell_type": "code",
   "execution_count": 9,
   "metadata": {},
   "outputs": [],
   "source": [
    "se_c = cv2.getStructuringElement(cv2.MORPH_CROSS, (3, 3))\n",
    "se_vl = np.array([[0,1,0],[0,1,0],[0,1,0]], np.ubyte)\n",
    "def morhpOps(frame):\n",
    "    frame_out = cv2.morphologyEx(frame, cv2.MORPH_OPEN, se_c, iterations=1)\n",
    "    frame_out = cv2.morphologyEx(frame_out, cv2.MORPH_OPEN, se_vl, iterations=2)\n",
    "    return frame_out"
   ]
  },
  {
   "cell_type": "code",
   "execution_count": 10,
   "metadata": {},
   "outputs": [],
   "source": [
    "def proposeScan(frame_p, frame_in, scan_line_h, bins_count=50, bin_threshold=100):\n",
    "    #Get full frame scan line\n",
    "    scan_line = frame_p[scan_line_h,:]\n",
    "\n",
    "    # Find first peaks from center\n",
    "    # Find peaks\n",
    "    bin_width = round(len(scan_line)/bins_count)\n",
    "    scan_bins = sum(split(scan_line, bins_count), 1) # Grouped in 50 bins\n",
    "    scan_bins_peaks = where(scan_bins>bin_threshold)[0]\n",
    "    # Break peaks indexes to left an right from center\n",
    "    # And get peaks nearest to center\n",
    "    center_bin = round(bins_count/2)\n",
    "    left_peak_predicate = scan_bins_peaks <= center_bin\n",
    "    right_peak_predicate = scan_bins_peaks > center_bin\n",
    "    if not any(left_peak_predicate) or not any(right_peak_predicate):\n",
    "        return False, None, None\n",
    "    left_peak = int(scan_bins_peaks[left_peak_predicate][-1]*bin_width-bin_width/2)\n",
    "    right_peak = int(scan_bins_peaks[right_peak_predicate][0]*bin_width+bin_width/2)\n",
    "\n",
    "    # Calculate various conditions\n",
    "    cavity_width = right_peak-left_peak\n",
    "    cavity_weight = sum(frame_p[scan_line_h,left_peak:right_peak])\n",
    "    \n",
    "    if cavity_width > 800:\n",
    "        return True, left_peak, right_peak\n",
    "    else:\n",
    "        return False, None, None"
   ]
  },
  {
   "cell_type": "code",
   "execution_count": 39,
   "metadata": {},
   "outputs": [],
   "source": [
    "def generate_process():\n",
    "    adjust_gamma = generate_LUT(5)\n",
    "    scan_line_h = 720\n",
    "    found_plate = False\n",
    "    lost_plate_frames = 0\n",
    "    llp, lrp = None, None\n",
    "    def process(frame_in):\n",
    "        nonlocal found_plate\n",
    "        nonlocal lost_plate_frames\n",
    "        nonlocal llp, lrp\n",
    "\n",
    "        frame_out = cv2.cvtColor(frame_in, cv2.COLOR_BGR2GRAY)\n",
    "        frame_out = cv2.equalizeHist(frame_out)\n",
    "        frame_out = adjust_gamma(frame_out)\n",
    "        frame_out = DoG(frame_out, 1, 1)\n",
    "        frame_out = morhpOps(frame_out)\n",
    "        frame_out = Unwarp(frame_out)\n",
    "        ret, lp, rp = proposeScan(frame_out, frame_in, scan_line_h)\n",
    "        if ret:\n",
    "            llp, lrp = lp, rp\n",
    "            lost_plate_frames = 0\n",
    "            if not found_plate:\n",
    "                found_plate = True\n",
    "        elif found_plate and lost_plate_frames < 5:\n",
    "            lp, rp = llp, lrp\n",
    "            lost_plate_frames += 1\n",
    "        else:\n",
    "            found_plate = False\n",
    "            lost_plate_frames = 0\n",
    "            llp, lrp = None, None\n",
    "        if(found_plate):\n",
    "            # Extract proposed line\n",
    "            # Kartashev: in grayscale for simplier interpolation\n",
    "            frame_gray = cv2.cvtColor(frame_in, cv2.COLOR_BGR2GRAY)\n",
    "            scanned_line = frame_gray[scan_line_h,lp:rp]\n",
    "            return frame_out, scanned_line\n",
    "        else:\n",
    "            return frame_out, None\n",
    "    return process"
   ]
  },
  {
   "cell_type": "code",
   "execution_count": 61,
   "metadata": {},
   "outputs": [],
   "source": [
    "# Work area"
   ]
  },
  {
   "cell_type": "code",
   "execution_count": 88,
   "metadata": {},
   "outputs": [],
   "source": [
    "input_file_path = 'bandicam 2018-10-24 10-51-31-769.mp4'\n",
    "vid = cv2.VideoCapture(input_file_path)"
   ]
  },
  {
   "cell_type": "code",
   "execution_count": 89,
   "metadata": {},
   "outputs": [],
   "source": [
    "# Seek needed frame\n",
    "vid.set(cv2.CAP_PROP_POS_FRAMES,470)\n",
    "frame = get_frame(vid)"
   ]
  },
  {
   "cell_type": "code",
   "execution_count": 90,
   "metadata": {},
   "outputs": [],
   "source": [
    "#Kartashev: interpolation and gluing\n",
    "from scipy.interpolate import UnivariateSpline\n",
    "\n",
    "def glue(sum_plate, line):\n",
    "    old_indices = np.arange(0, len(line))\n",
    "    #new_length = np.shape(line)[0] if np.shape(line)[0] > np.shape(sum_plate)[0] else np.shape(sum_plate)[0]\n",
    "    new_length = np.shape(sum_plate)[1]\n",
    "    new_indices = np.linspace(0, len(line)-1, new_length)\n",
    "    spl = UnivariateSpline(old_indices, line, k=3, s=0)\n",
    "    new_line = spl(new_indices)\n",
    "    return np.vstack((sum_plate, [new_line]))\n",
    "sum_plate = None\n"
   ]
  },
  {
   "cell_type": "code",
   "execution_count": 91,
   "metadata": {},
   "outputs": [
    {
     "data": {
      "text/plain": [
       "<matplotlib.image.AxesImage at 0x18cc579b908>"
      ]
     },
     "execution_count": 91,
     "metadata": {},
     "output_type": "execute_result"
    },
    {
     "data": {
      "image/png": "[encoded data removed]",
      "text/plain": [
       "<Figure size 432x288 with 1 Axes>"
      ]
     },
     "metadata": {
      "needs_background": "light"
     },
     "output_type": "display_data"
    }
   ],
   "source": [
    "process = generate_process()\n",
    "frames_to_play = 200\n",
    "plate = None\n",
    "try:\n",
    "    \n",
    "    \n",
    "    while(frames_to_play):\n",
    "        t1 = time.time()\n",
    "        \n",
    "        # Capture frame-by-frame\n",
    "        frame = get_frame(vid)\n",
    "        frames_to_play -= 1\n",
    "\n",
    "        # Convert the image from OpenCV BGR format to matplotlib RGB format\n",
    "        # to display the image\n",
    "        frame_p, line = process(frame)\n",
    "        if line is not None and plate is None:\n",
    "            print('plate have started')\n",
    "            plate = True\n",
    "        if line is not None and plate is not None:\n",
    "            #пока отображаем только последнюю. И в Grayscale, так проще делать интерполяцию\n",
    "            if sum_plate is None:\n",
    "                sum_plate = [np.empty(np.shape(line))]\n",
    "            sum_plate = glue(sum_plate, line)\n",
    "            print(np.shape(sum_plate))\n",
    "            print('appended plate')\n",
    "        if line is None and plate is not None:\n",
    "            print('plate has ended')\n",
    "            plate = None\n",
    "        if line is None and plate is None:\n",
    "            print('No plate')\n",
    "        showarray(frame_p)\n",
    "        if line is not None:\n",
    "            pass\n",
    "            #plot(line)\n",
    "        t2 = time.time()\n",
    "        #time.sleep(0.3)\n",
    "\n",
    "        print('%f FPS' % (1/(t2-t1+1e-07)))\n",
    "        # Display the frame until new frame is available\n",
    "        clear_output(wait=True)\n",
    "except KeyboardInterrupt:\n",
    "    vid.release()\n",
    "    print('Stream stopped')\n",
    "plt.imshow(sum_plate, cmap='gray')"
   ]
  },
  {
   "cell_type": "code",
   "execution_count": 84,
   "metadata": {},
   "outputs": [],
   "source": [
    "# TEST"
   ]
  },
  {
   "cell_type": "code",
   "execution_count": null,
   "metadata": {},
   "outputs": [],
   "source": []
  }
 ],
 "metadata": {
  "kernelspec": {
   "display_name": "Python 3",
   "language": "python",
   "name": "python3"
  },
  "language_info": {
   "codemirror_mode": {
    "name": "ipython",
    "version": 3
   },
   "file_extension": ".py",
   "mimetype": "text/x-python",
   "name": "python",
   "nbconvert_exporter": "python",
   "pygments_lexer": "ipython3",
   "version": "3.6.6"
  }
 },
 "nbformat": 4,
 "nbformat_minor": 2
}
