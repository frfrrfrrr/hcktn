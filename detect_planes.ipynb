{
 "cells": [
  {
   "cell_type": "code",
   "execution_count": null,
   "metadata": {},
   "outputs": [],
   "source": [
    "# Import the required modules\n",
    "from IPython.display import clear_output\n",
    "import PIL.Image\n",
    "from io import BytesIO\n",
    "import IPython.display\n",
    "\n",
    "import cv2\n",
    "import time\n",
    "%pylab inline"
   ]
  },
  {
   "cell_type": "code",
   "execution_count": null,
   "metadata": {},
   "outputs": [],
   "source": [
    "DEBUG = False"
   ]
  },
  {
   "cell_type": "code",
   "execution_count": null,
   "metadata": {},
   "outputs": [],
   "source": [
    "# UTILITY FUNCTIONS"
   ]
  },
  {
   "cell_type": "code",
   "execution_count": null,
   "metadata": {},
   "outputs": [],
   "source": [
    "#Use 'jpeg' instead of 'png' (~5 times faster)\n",
    "def showarray(a, times=2, r=True, fmt='jpeg'):\n",
    "    old_shape = a.shape\n",
    "    if len(old_shape) is 3:\n",
    "        a = cv2.cvtColor(a, cv2.COLOR_BGR2RGB)\n",
    "        old_shape = a.shape[:-1]\n",
    "    if r:\n",
    "        new_shape = flip(rint(divide(old_shape, times)).astype(int))\n",
    "        a = cv2.resize(a, tuple(new_shape.tolist()))\n",
    "    f = BytesIO()\n",
    "    PIL.Image.fromarray(a).save(f, fmt)\n",
    "    IPython.display.display(IPython.display.Image(data=f.getvalue()))"
   ]
  },
  {
   "cell_type": "code",
   "execution_count": null,
   "metadata": {},
   "outputs": [],
   "source": [
    "def get_frame(cam):\n",
    "    # Capture frame-by-frame\n",
    "    ret, frame = cam.read()\n",
    "    if not ret:\n",
    "        raise KeyboardInterrupt()\n",
    "   \n",
    "    return frame"
   ]
  },
  {
   "cell_type": "code",
   "execution_count": null,
   "metadata": {},
   "outputs": [],
   "source": [
    "yellow = (0, 255, 255)\n",
    "red = (0, 0, 255)\n",
    "green = (0, 255, 0)\n",
    "white = (255,0,0)\n",
    "def draw_region(frame, h, w, color, l=None, r=None):\n",
    "    frame = cv2.line(frame, (2000, h), (0, h), color, 5)\n",
    "    frame = cv2.line(frame, (2000, h-w), (0, h-w), color, 5)\n",
    "    if l is not None:\n",
    "        frame = cv2.line(frame, (l, 2000), (l, 0), color, 5)\n",
    "        frame = cv2.line(frame, (r, 2000), (r, 0), color, 5)\n",
    "    return frame"
   ]
  },
  {
   "cell_type": "code",
   "execution_count": null,
   "metadata": {},
   "outputs": [],
   "source": [
    "# PROCESS FUNCTIONS"
   ]
  },
  {
   "cell_type": "code",
   "execution_count": null,
   "metadata": {},
   "outputs": [],
   "source": [
    "def generate_LUT(gamma=1.0):\n",
    "    # build a lookup table mapping the pixel values [0, 255] to\n",
    "    # their adjusted gamma values\n",
    "    invGamma = 1.0 / gamma\n",
    "    table = np.array([((i / 255.0) ** invGamma) * 255\n",
    "        for i in np.arange(0, 256)]).astype(\"uint8\")\n",
    "    def adjust_gamma(image):\n",
    "        # apply gamma correction using the lookup table\n",
    "        return cv2.LUT(image, table)\n",
    "    return adjust_gamma"
   ]
  },
  {
   "cell_type": "code",
   "execution_count": null,
   "metadata": {},
   "outputs": [],
   "source": [
    "def DoG(frame, s=1, stride=0):\n",
    "    #run a 5x5 gaussian blur then a 3x3 gaussian blr\n",
    "    sB = (s+1+stride)*2+1\n",
    "    sS = (s)*2+1\n",
    "    blurB = cv2.GaussianBlur(frame,(sB,sB),0)\n",
    "    blurS = cv2.GaussianBlur(frame,(sS,sS),0)\n",
    "\n",
    "    return blurB - blurS"
   ]
  },
  {
   "cell_type": "code",
   "execution_count": null,
   "metadata": {},
   "outputs": [],
   "source": [
    "def generate_morphOps():\n",
    "    se_c = cv2.getStructuringElement(cv2.MORPH_CROSS, (3, 3))\n",
    "    se_vl = np.array([[0,1,0],[0,1,0],[0,1,0]], np.ubyte)\n",
    "    def morphOps(frame, it):\n",
    "        frame_out = cv2.morphologyEx(frame, cv2.MORPH_OPEN, se_c, iterations=1)\n",
    "        frame_out = cv2.morphologyEx(frame_out, cv2.MORPH_OPEN, se_vl, iterations=it)\n",
    "        frame_out = cv2.morphologyEx(frame_out, cv2.MORPH_DILATE, se_vl, iterations=it)\n",
    "        return frame_out\n",
    "    return morphOps"
   ]
  },
  {
   "cell_type": "code",
   "execution_count": null,
   "metadata": {},
   "outputs": [],
   "source": [
    "def Unwarp(frame, ltc, rtc):\n",
    "    h = frame.shape[0]\n",
    "    w = frame.shape[1]\n",
    "    pts_src = np.array([[ltc, 0], [0, h], [rtc, h],[w, 0]])\n",
    "    pts_dst = np.array([[0, 0],[0, h],[w, h],[w, 0]])\n",
    "\n",
    "    h, status = cv2.findHomography(pts_src, pts_dst)\n",
    "    frame_out = cv2.warpPerspective(frame, h, (frame.shape[1],frame.shape[0]))\n",
    "    return frame_out"
   ]
  },
  {
   "cell_type": "code",
   "execution_count": null,
   "metadata": {},
   "outputs": [],
   "source": [
    "#Kartashev: interpolation and gluing\n",
    "from scipy.interpolate import UnivariateSpline\n",
    "\n",
    "def glue(sum_plate, region):\n",
    "    old_indices = arange(0, region.shape[1])\n",
    "    new_indices = np.linspace(0, region.shape[1]-1, sum_plate.shape[1])\n",
    "    for line_i in range(region.shape[0]):\n",
    "        line = region[line_i,:]\n",
    "        spl = UnivariateSpline(old_indices, line, k=3, s=0)\n",
    "        new_line = spl(new_indices).astype(np.uint8)\n",
    "        sum_plate = np.vstack((sum_plate, [new_line]))\n",
    "    return sum_plate"
   ]
  },
  {
   "cell_type": "code",
   "execution_count": null,
   "metadata": {},
   "outputs": [],
   "source": [
    "def generate_process(scan_line_h, scan_line_w):\n",
    "    adjust_gamma = generate_LUT(4)\n",
    "    morphOps = generate_morphOps()\n",
    "    def process(frame_in):\n",
    "        frame_in = cv2.cvtColor(frame_in, cv2.COLOR_BGR2GRAY)\n",
    "        frame_out = cv2.equalizeHist(frame_in)\n",
    "        frame_out = adjust_gamma(frame_out)\n",
    "        frame_out = DoG(frame_out, 2, 9)\n",
    "        frame_out = morphOps(frame_out, 6)\n",
    "        \n",
    "        frame_out = Unwarp(frame_out, 140, frame_out.shape[1]+160)\n",
    "        frame_in = Unwarp(frame_in, 140, frame_out.shape[1]+160)\n",
    "        \n",
    "        lcm = 220\n",
    "        rcm = frame_out.shape[1]-310\n",
    "        frame_out = frame_out[:, lcm:rcm]\n",
    "        frame_in = frame_in[:, lcm:rcm]\n",
    "        \n",
    "        region_sum_t = sum(sum(frame_out[scan_line_h-scan_line_w:scan_line_h-int(scan_line_w/2),:]))/frame_out.size\n",
    "        region_sum_b = sum(sum(frame_out[scan_line_h-int(scan_line_w/2):scan_line_h,:]))/frame_out.size\n",
    "        if DEBUG:\n",
    "            print(region_sum_t, region_sum_b)\n",
    "            global_sum.append(region_sum_b)\n",
    "            global_sum.append(region_sum_t)\n",
    "        frame_out = frame_in\n",
    "        \n",
    "        # Грязь по кромке, годные, изломы 0.5\n",
    "        # Годные 0.8 \n",
    "        threshold = 0.8\n",
    "        if region_sum_t < threshold or region_sum_b < threshold:\n",
    "            scanned_line = frame_in[scan_line_h-scan_line_w:scan_line_h,:]\n",
    "            return frame_in, scanned_line\n",
    "        else:\n",
    "            return frame_in, None\n",
    "\n",
    "    return process"
   ]
  },
  {
   "cell_type": "code",
   "execution_count": null,
   "metadata": {},
   "outputs": [],
   "source": [
    "# Work area"
   ]
  },
  {
   "cell_type": "code",
   "execution_count": null,
   "metadata": {},
   "outputs": [],
   "source": [
    "input_file_path = 'Годные.cva'\n",
    "vid = cv2.VideoCapture(input_file_path)"
   ]
  },
  {
   "cell_type": "code",
   "execution_count": null,
   "metadata": {},
   "outputs": [],
   "source": [
    "# Seek needed frame\n",
    "vid.set(cv2.CAP_PROP_POS_FRAMES,150)\n",
    "frame = get_frame(vid)"
   ]
  },
  {
   "cell_type": "code",
   "execution_count": null,
   "metadata": {},
   "outputs": [],
   "source": [
    "scan_line_h = 450\n",
    "scan_line_w = 105\n",
    "process = generate_process(scan_line_h, scan_line_w)\n",
    "found_plate = None\n",
    "sum_plate = None\n",
    "plates_count = 0\n",
    "frames_to_play = 50\n",
    "status = ''\n",
    "if DEBUG:\n",
    "    global_sum = []\n",
    "try:\n",
    "    while(frames_to_play):\n",
    "        t1 = time.time()\n",
    "        \n",
    "        # Capture frame-by-frame\n",
    "        frame = get_frame(vid)\n",
    "        #frames_to_play -= 1\n",
    "\n",
    "        # Convert the image from OpenCV BGR format to matplotlib RGB format\n",
    "        # to display the image\n",
    "        frame_p, line = process(frame)        \n",
    "        if DEBUG:\n",
    "            frame_show = frame_p.copy()\n",
    "            if line is not None:\n",
    "                showarray(line)\n",
    "        if line is not None:\n",
    "            if not found_plate:\n",
    "                status = 'plate have started'\n",
    "                found_plate = True\n",
    "                sum_plate = line\n",
    "            else:\n",
    "                #пока отображаем только последнюю. И в Grayscale, так проще делать интерполяцию                \n",
    "                sum_plate = glue(sum_plate, line)\n",
    "                status = 'appended plate'\n",
    "        else:\n",
    "            if found_plate:\n",
    "                status = 'plate has ended'\n",
    "                found_plate = False\n",
    "                if sum_plate.shape[0] > 900:\n",
    "                    cv2.imwrite('plate_%d.tiff' % (plates_count),sum_plate)\n",
    "                    plates_count += 1\n",
    "            else:\n",
    "                status = 'No plate'\n",
    "        t2 = time.time()\n",
    "        if DEBUG:\n",
    "            showarray(draw_region(frame_show, scan_line_h, scan_line_w, white), 4)\n",
    "            time.sleep(1)\n",
    "\n",
    "        fps = '%f FPS' % (1/(t2-t1+1e-07))\n",
    "        print('%s %s' % (status, fps))\n",
    "        # Display the frame until new frame is available\n",
    "        clear_output(wait=True)\n",
    "except KeyboardInterrupt:\n",
    "    vid.release()\n",
    "    print('Stream stopped')\n",
    "#showarray(sum_plate, 4)"
   ]
  },
  {
   "cell_type": "code",
   "execution_count": null,
   "metadata": {},
   "outputs": [],
   "source": [
    "# TEST"
   ]
  },
  {
   "cell_type": "code",
   "execution_count": null,
   "metadata": {},
   "outputs": [],
   "source": [
    "# Select threshold"
   ]
  },
  {
   "cell_type": "code",
   "execution_count": null,
   "metadata": {},
   "outputs": [],
   "source": [
    "global_sum = np.array(global_sum, dtype=float64)"
   ]
  },
  {
   "cell_type": "code",
   "execution_count": null,
   "metadata": {},
   "outputs": [],
   "source": [
    "hist(global_sum, 40);"
   ]
  },
  {
   "cell_type": "code",
   "execution_count": null,
   "metadata": {},
   "outputs": [],
   "source": [
    "plot(sort(global_sum));"
   ]
  },
  {
   "cell_type": "code",
   "execution_count": null,
   "metadata": {},
   "outputs": [],
   "source": [
    "plot(global_sum_rate)"
   ]
  },
  {
   "cell_type": "code",
   "execution_count": null,
   "metadata": {},
   "outputs": [],
   "source": [
    "plot(global_sum_rate > 0.015);"
   ]
  },
  {
   "cell_type": "code",
   "execution_count": null,
   "metadata": {},
   "outputs": [],
   "source": [
    "global_sum_rate = diff(sort(global_sum))\n",
    "global_threshold = sort(global_sum)[argmax(global_sum_rate > 0.015)]\n",
    "global_threshold"
   ]
  },
  {
   "cell_type": "code",
   "execution_count": null,
   "metadata": {},
   "outputs": [],
   "source": []
  }
 ],
 "metadata": {
  "kernelspec": {
   "display_name": "Python [conda env:ml]",
   "language": "python",
   "name": "conda-env-ml-py"
  },
  "language_info": {
   "codemirror_mode": {
    "name": "ipython",
    "version": 3
   },
   "file_extension": ".py",
   "mimetype": "text/x-python",
   "name": "python",
   "nbconvert_exporter": "python",
   "pygments_lexer": "ipython3",
   "version": "3.6.6"
  }
 },
 "nbformat": 4,
 "nbformat_minor": 2
}
