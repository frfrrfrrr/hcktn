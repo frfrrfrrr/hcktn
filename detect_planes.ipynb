{
 "cells": [
  {
   "cell_type": "code",
   "execution_count": 2,
   "metadata": {},
   "outputs": [
    {
     "name": "stdout",
     "output_type": "stream",
     "text": [
      "Populating the interactive namespace from numpy and matplotlib\n"
     ]
    }
   ],
   "source": [
    "# Import the required modules\n",
    "from IPython.display import clear_output\n",
    "import PIL.Image\n",
    "from io import BytesIO\n",
    "import IPython.display\n",
    "\n",
    "import cv2\n",
    "import time\n",
    "%pylab inline"
   ]
  },
  {
   "cell_type": "code",
   "execution_count": 6,
   "metadata": {},
   "outputs": [],
   "source": [
    "# UTILITY FUNCTIONS"
   ]
  },
  {
   "cell_type": "code",
   "execution_count": 169,
   "metadata": {},
   "outputs": [],
   "source": [
    "#Use 'jpeg' instead of 'png' (~5 times faster)\n",
    "def showarray(a, fmt='jpeg'):\n",
    "    a = cv2.resize(a, (600 , 300))\n",
    "    if len(a.shape) is 3:\n",
    "        a = cv2.cvtColor(a, cv2.COLOR_BGR2RGB)\n",
    "    f = BytesIO()\n",
    "    PIL.Image.fromarray(a).save(f, fmt)\n",
    "    IPython.display.display(IPython.display.Image(data=f.getvalue()))"
   ]
  },
  {
   "cell_type": "code",
   "execution_count": 73,
   "metadata": {},
   "outputs": [],
   "source": [
    "def get_frame(cam):\n",
    "    # Capture frame-by-frame\n",
    "    ret, frame = cam.read()\n",
    "    if not ret:\n",
    "        raise KeyboardInterrupt()\n",
    "    \n",
    "    #flip image for natural viewing\n",
    "    #frame = cv2.flip(frame, 1)\n",
    "    \n",
    "    return frame"
   ]
  },
  {
   "cell_type": "code",
   "execution_count": 74,
   "metadata": {},
   "outputs": [],
   "source": [
    "# PROCESS FUNCTIONS"
   ]
  },
  {
   "cell_type": "code",
   "execution_count": 75,
   "metadata": {},
   "outputs": [],
   "source": [
    "def generate_LUT(gamma=1.0):\n",
    "    # build a lookup table mapping the pixel values [0, 255] to\n",
    "    # their adjusted gamma values\n",
    "    invGamma = 1.0 / gamma\n",
    "    table = np.array([((i / 255.0) ** invGamma) * 255\n",
    "        for i in np.arange(0, 256)]).astype(\"uint8\")\n",
    "    def adjust_gamma(image):\n",
    "        # apply gamma correction using the lookup table\n",
    "        return cv2.LUT(image, table)\n",
    "    return adjust_gamma"
   ]
  },
  {
   "cell_type": "code",
   "execution_count": 76,
   "metadata": {},
   "outputs": [],
   "source": [
    "def DoG(frame, s=1, stride=0):\n",
    "    #run a 5x5 gaussian blur then a 3x3 gaussian blr\n",
    "    sB = (s+1+stride)*2+1\n",
    "    sS = (s)*2+1\n",
    "    blurB = cv2.GaussianBlur(frame,(sB,sB),0)\n",
    "    blurS = cv2.GaussianBlur(frame,(sS,sS),0)\n",
    "\n",
    "    return blurB - blurS"
   ]
  },
  {
   "cell_type": "code",
   "execution_count": 98,
   "metadata": {},
   "outputs": [],
   "source": [
    "def Unwarp(frame):\n",
    "    pts_src = np.array([[67, 0], [63, 856], [1552, 856],[1500, 0]])\n",
    "    pts_dst = np.array([[0, 0],[0, 856],[1552, 856],[1552, 0]])\n",
    "\n",
    "    h, status = cv2.findHomography(pts_src, pts_dst)\n",
    "    frame_out = cv2.warpPerspective(frame, h, (frame.shape[1],frame.shape[0]))\n",
    "    return frame_out[:, 200:1400]"
   ]
  },
  {
   "cell_type": "code",
   "execution_count": 99,
   "metadata": {},
   "outputs": [],
   "source": [
    "adjust_gamma = generate_LUT(5)\n",
    "se_c = cv2.getStructuringElement(cv2.MORPH_CROSS, (3, 3))\n",
    "se_vl = np.array([[0,1,0],[0,1,0],[0,1,0]], np.ubyte)\n",
    "def process(frame_in):\n",
    "    frame_out = cv2.cvtColor(frame_in, cv2.COLOR_BGR2GRAY)\n",
    "    frame_out = cv2.equalizeHist(frame_out)\n",
    "    frame_out = adjust_gamma(frame_out)\n",
    "    frame_out = DoG(frame_out, 1, 1)\n",
    "    frame_out = cv2.morphologyEx(frame_out, cv2.MORPH_OPEN, se_c, iterations=1)\n",
    "    frame_out = cv2.morphologyEx(frame_out, cv2.MORPH_OPEN, se_vl, iterations=2)\n",
    "    frame_out = Unwarp(frame_out)\n",
    "    return frame_out"
   ]
  },
  {
   "cell_type": "code",
   "execution_count": 100,
   "metadata": {},
   "outputs": [],
   "source": [
    "# Work area"
   ]
  },
  {
   "cell_type": "code",
   "execution_count": 172,
   "metadata": {},
   "outputs": [],
   "source": [
    "input_file_path = 'bandicam 2018-10-24 10-51-31-769.mp4'\n",
    "vid = cv2.VideoCapture(input_file_path)"
   ]
  },
  {
   "cell_type": "code",
   "execution_count": 173,
   "metadata": {},
   "outputs": [],
   "source": [
    "# Seek needed frame\n",
    "vid.set(cv2.CAP_PROP_POS_FRAMES,470)\n",
    "frame = get_frame(vid)"
   ]
  },
  {
   "cell_type": "code",
   "execution_count": 174,
   "metadata": {},
   "outputs": [
    {
     "name": "stdout",
     "output_type": "stream",
     "text": [
      "Stream stopped\n"
     ]
    }
   ],
   "source": [
    "try:\n",
    "    while(True):\n",
    "        t1 = time.time()\n",
    "        \n",
    "        # Capture frame-by-frame\n",
    "        frame = get_frame(vid)\n",
    "\n",
    "        # Convert the image from OpenCV BGR format to matplotlib RGB format\n",
    "        # to display the image\n",
    "        showarray(process(frame))\n",
    "        t2 = time.time()\n",
    "\n",
    "        print('%f FPS' % (1/(t2-t1+1e-07)))\n",
    "        # Display the frame until new frame is available\n",
    "        clear_output(wait=True)\n",
    "except KeyboardInterrupt:\n",
    "    vid.release()\n",
    "    print('Stream stopped')"
   ]
  },
  {
   "cell_type": "code",
   "execution_count": 69,
   "metadata": {},
   "outputs": [],
   "source": [
    "# TEST"
   ]
  },
  {
   "cell_type": "code",
   "execution_count": 105,
   "metadata": {},
   "outputs": [
    {
     "data": {
      "text/plain": [
       "(856, 1552, 3)"
      ]
     },
     "execution_count": 105,
     "metadata": {},
     "output_type": "execute_result"
    }
   ],
   "source": [
    "frame.shape"
   ]
  },
  {
   "cell_type": "code",
   "execution_count": 182,
   "metadata": {},
   "outputs": [
    {
     "data": {
      "image/jpeg": "[encoded data removed]",
      "text/plain": [
       "<IPython.core.display.Image object>"
      ]
     },
     "metadata": {},
     "output_type": "display_data"
    }
   ],
   "source": [
    "#Process frame\n",
    "frame_p = process(frame)\n",
    "#Get scan line\n",
    "scan_line_h = 720\n",
    "scan_line = frame_p[scan_line_h,:]\n",
    "#Vis\n",
    "frame_p_im = cv2.line(frame_p.copy(), (0,scan_line_h), (1552,scan_line_h), (255,))\n",
    "showarray(frame_p_im)"
   ]
  },
  {
   "cell_type": "code",
   "execution_count": 184,
   "metadata": {},
   "outputs": [
    {
     "data": {
      "text/plain": [
       "[<matplotlib.lines.Line2D at 0x1ef207ddb00>]"
      ]
     },
     "execution_count": 184,
     "metadata": {},
     "output_type": "execute_result"
    },
    {
     "data": {
      "image/png": "[encoded data removed]",
      "text/plain": [
       "<Figure size 432x288 with 1 Axes>"
      ]
     },
     "metadata": {
      "needs_background": "light"
     },
     "output_type": "display_data"
    }
   ],
   "source": [
    "plot(scan_line)"
   ]
  },
  {
   "cell_type": "code",
   "execution_count": 239,
   "metadata": {},
   "outputs": [],
   "source": [
    "# Find first peaks from center\n",
    "# Find peaks\n",
    "scan_line_grouped = sum(split(scan_line, 50), 1) # Grouped in 50 bins\n",
    "scan_line_peaks = where(scan_line>50)[0]\n",
    "# Break peaks indexes to left an right from center\n",
    "# And get peaks nearest to center\n",
    "left_peak = scan_line_peaks[scan_line_peaks <= 600][-1]\n",
    "right_peak = scan_line_peaks[scan_line_peaks > 600][0]\n",
    "\n",
    "# Get proposed plate line\n",
    "scanned_line = frame[scan_line_h,left_peak:right_peak+1,:]\n",
    "\n",
    "# Calculate various conditions\n",
    "cavity_width = right_peak-left_peak\n",
    "cavity_weight = sum(frame_p[scan_line_h,left_peak:right_peak+1])"
   ]
  },
  {
   "cell_type": "code",
   "execution_count": 255,
   "metadata": {},
   "outputs": [
    {
     "data": {
      "text/plain": [
       "[<matplotlib.lines.Line2D at 0x1ef2116acc0>]"
      ]
     },
     "execution_count": 255,
     "metadata": {},
     "output_type": "execute_result"
    },
    {
     "data": {
      "image/png": "[encoded data removed]",
      "text/plain": [
       "<Figure size 432x288 with 1 Axes>"
      ]
     },
     "metadata": {
      "needs_background": "light"
     },
     "output_type": "display_data"
    }
   ],
   "source": [
    "plot()"
   ]
  },
  {
   "cell_type": "code",
   "execution_count": 195,
   "metadata": {},
   "outputs": [
    {
     "ename": "ValueError",
     "evalue": "object of too small depth for desired array",
     "output_type": "error",
     "traceback": [
      "\u001b[1;31m---------------------------------------------------------------------------\u001b[0m",
      "\u001b[1;31mValueError\u001b[0m                                Traceback (most recent call last)",
      "\u001b[1;32m<ipython-input-195-231088681204>\u001b[0m in \u001b[0;36m<module>\u001b[1;34m\u001b[0m\n\u001b[1;32m----> 1\u001b[1;33m \u001b[0mdigitize\u001b[0m\u001b[1;33m(\u001b[0m\u001b[0mscan_line\u001b[0m\u001b[1;33m,\u001b[0m \u001b[1;36m1600\u001b[0m\u001b[1;33m)\u001b[0m\u001b[1;33m\u001b[0m\u001b[0m\n\u001b[0m",
      "\u001b[1;31mValueError\u001b[0m: object of too small depth for desired array"
     ]
    }
   ],
   "source": [
    "digitize(scan_line, 1600)"
   ]
  },
  {
   "cell_type": "code",
   "execution_count": 220,
   "metadata": {},
   "outputs": [
    {
     "data": {
      "text/plain": [
       "[<matplotlib.lines.Line2D at 0x1ef20d0c240>]"
      ]
     },
     "execution_count": 220,
     "metadata": {},
     "output_type": "execute_result"
    },
    {
     "data": {
      "image/png": "[encoded data removed]",
      "text/plain": [
       "<Figure size 432x288 with 1 Axes>"
      ]
     },
     "metadata": {
      "needs_background": "light"
     },
     "output_type": "display_data"
    }
   ],
   "source": [
    "bins = digitize(scan_line, np.arange(0,1200,4))\n",
    "plot(np.searchsorted(bins, scan_line, side='left'))"
   ]
  },
  {
   "cell_type": "code",
   "execution_count": 225,
   "metadata": {},
   "outputs": [
    {
     "data": {
      "text/plain": [
       "[<matplotlib.lines.Line2D at 0x1ef20f86240>]"
      ]
     },
     "execution_count": 225,
     "metadata": {},
     "output_type": "execute_result"
    },
    {
     "data": {
      "image/png": "[encoded data removed]",
      "text/plain": [
       "<Figure size 432x288 with 1 Axes>"
      ]
     },
     "metadata": {
      "needs_background": "light"
     },
     "output_type": "display_data"
    }
   ],
   "source": [
    "plot(scan_line)"
   ]
  },
  {
   "cell_type": "code",
   "execution_count": null,
   "metadata": {},
   "outputs": [],
   "source": []
  }
 ],
 "metadata": {
  "kernelspec": {
   "display_name": "Python [conda env:ml]",
   "language": "python",
   "name": "conda-env-ml-py"
  },
  "language_info": {
   "codemirror_mode": {
    "name": "ipython",
    "version": 3
   },
   "file_extension": ".py",
   "mimetype": "text/x-python",
   "name": "python",
   "nbconvert_exporter": "python",
   "pygments_lexer": "ipython3",
   "version": "3.6.6"
  }
 },
 "nbformat": 4,
 "nbformat_minor": 2
}
